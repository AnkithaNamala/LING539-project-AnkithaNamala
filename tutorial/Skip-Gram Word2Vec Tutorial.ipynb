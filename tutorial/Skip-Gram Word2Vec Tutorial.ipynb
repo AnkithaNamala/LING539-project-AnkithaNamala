{
 "cells": [
  {
   "cell_type": "markdown",
   "id": "a71807f4",
   "metadata": {},
   "source": [
    "# <img src = \"../images/tutorial.png\" width = \"40\"/> Skip-Gram Word2Vec Tutorial for Code - Switched Telugu - English Data\n",
    "------------------------------------------------------------------------------------------------------------------------------------------------------"
   ]
  },
  {
   "cell_type": "markdown",
   "id": "0cabde28",
   "metadata": {},
   "source": [
    "## <img src = \"../images/presentation.png\" width = \"35\"/> Introduction\n",
    "------------------------------------------------------------------------------------------------------------------------------------------------------\n",
    "\n",
    "### <img src = \"../images/ai-modeling.png\" width = \"30\"/> What is Word2Vec?\n",
    "\n",
    "Word2Vec is a neural network based technique for learning vector representations of words, where semantically similar words are mapped close together in a vector space. One of its major algorithm is Skip-Gram. It aims to translate words into embedding vectors. These vectors are special in the way they capture the semantic relationships.\n",
    "\n",
    "\n",
    "### <img src = \"../images/algorithm.png\" width = \"30\"/> What is Skip-Gram?\n",
    "\n",
    "The Skip-Gram model is a neural network architecture used in Word2Vec to learn word embeddings based on the surrounding context of words. It captures semantic similarity and context in a low-dimensional vector space.\n",
    "\n",
    "It aims at translating words to embedding vectors. The algorithm maps words to vectors based on the spatial proximity to other words. The assumption is, if the words are placed near they are semantically similar. It iterates over all words in the text input and optimizes vector representations distance based on the context.\n",
    "\n",
    "\n",
    "### <img src = \"../images/linguistics.png\" width = \"30\"/> What is Code - Switching?\n",
    "\n",
    "Code-Switching is the use of two or more languages within a single sentence or discourse. \n",
    "\n",
    "### <img src = \"../images/language.png\" width = \"30\"/> Why Telugu - English?\n",
    "\n",
    "I am a native Telugu speaker. It would be useful for people like me who love to explore the code-switching between english as I use it in most of my communication online. It is also very popular in Indian digital platforms, particularly on YouTube adn social media. It presents uniqque challenges and opportunities for NLP.\n",
    "\n",
    "\n",
    "### <img src = \"../images/mission.png\" width = \"30\"/> Purpose\n",
    "\n",
    "This tutorial demonstrates how to build word embeddings using the Skip-Gram model for a Telugu-English dataset, enabling a cross-lingual understanding in a real-world scenario. Unlike traditional monolingual embeddings, this project focuses on the multilingual nature and informal structure of social media content."
   ]
  },
  {
   "cell_type": "markdown",
   "id": "41efd582",
   "metadata": {},
   "source": [
    "## <img src = \"../images/folder.png\" width = \"35\"/> Environment Setup\n",
    "------------------------------------------------------------------------------------------------------------------------------------------------------\n",
    "\n",
    "To ensure that the tutorial works consistently across all systems without needing to install dependencies manually, I used Docker for a reproducible environment. Execute the following commands from the project root (i.e., the directory containing this README file) and select which files you want to work on.\n",
    "\n",
    "To create a docker image by executing the following command:\n",
    "\n",
    "docker build -t telugu_english_skipgram .\n",
    "\n",
    "Once the image is built, run the container to access files.\n",
    "\n",
    "To run the docker container, execute the following command:\n",
    "\n",
    "docker run -it -p 7777:9999 -v \"$PWD:/app/\" telugu-english-skipgram\n",
    "\n",
    "From within your Linux VM, open your browser to localhost:7777 to navigate through Project files."
   ]
  },
  {
   "cell_type": "markdown",
   "id": "9bc732a4",
   "metadata": {},
   "source": [
    "## <img src = \"../images/data-science.png\" width = \"35\"/> Data Preparation\n",
    "------------------------------------------------------------------------------------------------------------------------------------------------------\n",
    "\n",
    "We need a clean and tokenized data for the Skip-Gram model to learn meaningful embeddings. This includes removing emojis, punctuations, any hyperlinks or links to other videos and preparing text.\n",
    "\n",
    "### <img src = \"../images/youtube.png\" width = \"30\"/> Dataset\n",
    "\n",
    "I have extracted comments from 30 Youtube videos. These videos range from movie songs to pre-release events, reality shows to teasers, national issues to cooking videos. \n",
    "\n",
    "I have used \"YoutubeCommentDownloader\" package for this purpose.\n",
    "\n",
    "To see how I collected data and what all videos I have used, refer to the \"scripts/Youtube Scaraping.ipynb\" file.\n",
    "\n",
    "Snippet of code to extract comments from a video:"
   ]
  },
  {
   "cell_type": "code",
   "execution_count": 1,
   "id": "1ffd94c3",
   "metadata": {},
   "outputs": [
    {
     "name": "stdout",
     "output_type": "stream",
     "text": [
      "Downloaded comments for a video\n"
     ]
    }
   ],
   "source": [
    "from youtube_comment_downloader import YoutubeCommentDownloader\n",
    "import pandas as pd\n",
    "\n",
    "dwnldr = YoutubeCommentDownloader()\n",
    "\n",
    "video_urls = [\"https://www.youtube.com/watch?v=iJF9AHeZVao\"]\n",
    "\n",
    "comments_list = []\n",
    "counter = 1\n",
    "\n",
    "for video in video_urls:\n",
    "    for comment in dwnldr.get_comments_from_url(video, sort_by = 0):\n",
    "        comments_list.append(comment[\"text\"])\n",
    "    print(\"Downloaded comments for a video\")\n",
    "    counter += 1"
   ]
  },
  {
   "cell_type": "markdown",
   "id": "7a0a4416",
   "metadata": {},
   "source": [
    "I saved this data into \"data/comments.txt\".\n",
    "\n",
    "### <img src = \"../images/business-model.png\" width = \"30\"/> Text Cleaning\n",
    "\n",
    "The comments contained various emojis, unwanted characters, and links to other videos which I carefully processed. Initially I used packages to clean them. Using this approach I was still left with some more unwanted emojis. Hence, I defined those emojis and a function to remove them. \n",
    "\n",
    "You can refer to the \"scripts/Skipgram Model.ipynb\" file for detailed implementation.\n",
    "\n",
    "Snippet for cleaning the data is as follows:"
   ]
  },
  {
   "cell_type": "code",
   "execution_count": 2,
   "id": "7c0c6639",
   "metadata": {},
   "outputs": [],
   "source": [
    "import re\n",
    "import emoji\n",
    "\n",
    "def clean_comments(text):\n",
    "    unclean_data = re.compile(\"[\"u\"\\U0001F600-\\U0001F64F\"u\"\\U0001F300-\\U0001F5FF\"u\"\\U00002700-\\U000027BF\"u\"\\U000024C2-\\U0001F251\"\"]+\", flags = re.UNICODE)\n",
    "\n",
    "    text = unclean_data.sub(r\"\", text)\n",
    "\n",
    "    text = re.sub(r\"http\\S+|www\\S+|https\\S+\", \"\", text)\n",
    "    text = re.sub(r\"@\\w+|#\\w+\", \"\", text)\n",
    "\n",
    "    text = re.sub(f\"[{re.escape(string.punctuation)}]\", \"\", text)\n",
    "\n",
    "    text = re.sub(r\"\\d+\", \"\", text)\n",
    "\n",
    "    text = re.sub(r\"\\s+\", \" \", text).strip()\n",
    "\n",
    "    text = emoji.replace_emoji(text, replace = \"\")\n",
    "\n",
    "    return text"
   ]
  },
  {
   "cell_type": "code",
   "execution_count": 3,
   "id": "53b59bb4",
   "metadata": {},
   "outputs": [],
   "source": [
    "def cleaning_emojis(tokens):\n",
    "    unwanted_emojis = [\"🥰\", \"🤣\", \"🤗\", \"🤣🤣\", \"🤣🤣🤣\", \"🥰🥰\", \"🤩\", \"🤔\", \"🚩\", \"🤝\", \"🤦\", \"🫂\", \"🥰🥰🥰\", \"🤣🤣🤣🤣🤣\", \"🤣🤣🤣🤣\", \"🤦\\u200d\", \"🤷\\u200d\", \"🤔🤔🤔\", \"🤞\", \"🤌\", \"🥺\", \"🤤🤤\", \"🤡\", \"\\u200d\\u200d\", \"🥰🥰🥰🥰🥰🥰\", \"🥲\", \"🤩🤩\", \"🫂🫂\", \"🥲\\U0001f979\", \"🚩🚩\", \"🤩🥰\", \"🧡🤍\", \"🤯\", \"\\u200d🩹\", \"🤘\", \"🤦\\u200d🤦\\u200d🤦\\u200d\", \"🤤\", \"🥰🥰🥰🥰\", \"🧠\"]\n",
    "\n",
    "    return [t for t in tokens if t not in unwanted_emojis]"
   ]
  },
  {
   "cell_type": "markdown",
   "id": "23f1db9a",
   "metadata": {},
   "source": [
    "To tokenise the comments, I have used the following snippet of code:"
   ]
  },
  {
   "cell_type": "code",
   "execution_count": 4,
   "id": "ffb9d876",
   "metadata": {},
   "outputs": [],
   "source": [
    "import string\n",
    "from nltk.tokenize import word_tokenize\n",
    "\n",
    "def preprocess(text):\n",
    "    text = text.lower()\n",
    "    text = re.sub(r\"[\" + string.punctuation + \"]\", \"\", text)\n",
    "    tokens = word_tokenize(text)\n",
    "\n",
    "    return tokens"
   ]
  },
  {
   "cell_type": "markdown",
   "id": "ad405872",
   "metadata": {},
   "source": [
    "## <img src = \"../images/3d-model.png\" width = \"35\"/> Skip-Gram Model with Gensim\n",
    "------------------------------------------------------------------------------------------------------------------------------------------------------\n",
    "\n",
    "### <img src = \"../images/training.png\" width = \"30\"/> Training Model\n",
    "\n",
    "This is the core step of the project. This is where we learn the vector representation of words that capture semantic meaning. We have used the Word2Vec technique for this.\n",
    "\n",
    "Word2vec works on few parameter:\n",
    "\n",
    "- vector_size: embedding dimensionality\n",
    "- window: context window size\n",
    "min_count: minimum word frequency\n",
    "-sg: for a skip-gram model we assign a value 1, for a count bag of words model we use 0\n",
    "- workers: number of training threads\n",
    "- epochs: training iterations over corpus\n",
    "\n",
    "The snippet of code for parameters I used in my project:"
   ]
  },
  {
   "cell_type": "code",
   "execution_count": 6,
   "id": "d489938f",
   "metadata": {},
   "outputs": [],
   "source": [
    "from gensim.models import Word2Vec\n",
    "\n",
    "with open(\"../data/cleaned_comments.txt\", \"r\", encoding = \"utf-8\") as f:\n",
    "    comments = f.readlines()\n",
    "\n",
    "cleaned_comments = [word_tokenize(l.strip()) for l in comments if l.strip()]\n",
    "\n",
    "skipgram_model = Word2Vec(sentences = cleaned_comments,\n",
    "                          vector_size = 1000,\n",
    "                          window = 5,\n",
    "                          min_count = 2,\n",
    "                          sg = 1,\n",
    "                          workers = 4,\n",
    "                          epochs = 10)"
   ]
  },
  {
   "cell_type": "markdown",
   "id": "ae2b40ca",
   "metadata": {},
   "source": [
    "I have saved the cleaned and tokenised data into the data folder under the name \"cleaned_comments.txt\".\n",
    "\n",
    "### <img src = \"../images/exploration.png\" width = \"30\"/> Exploring Embeddings\n",
    "\n",
    "To inspect how well the model has learned word relationships, I checked for similar words and their similarity score. I have also represneted it as an embedding visual with PCA.\n",
    "\n",
    "Snippet of code for visualisaing and examining top 5 similar words is as follows:"
   ]
  },
  {
   "cell_type": "code",
   "execution_count": 10,
   "id": "2b3d002d",
   "metadata": {},
   "outputs": [
    {
     "name": "stdout",
     "output_type": "stream",
     "text": [
      "Words similar to skit:\n",
      "athayya: 0.9974\n",
      "clothes: 0.9971\n",
      "bokkala: 0.9957\n",
      "madhi: 0.9957\n",
      "colour: 0.9955\n"
     ]
    },
    {
     "data": {
      "image/png": "[encoded data removed]",
      "text/plain": [
       "<Figure size 500x500 with 1 Axes>"
      ]
     },
     "metadata": {},
     "output_type": "display_data"
    }
   ],
   "source": [
    "import matplotlib.pyplot as plt\n",
    "from sklearn.decomposition import PCA\n",
    "\n",
    "def visualise_word_embeddings(word):\n",
    "\n",
    "    similar_words = skipgram_model.wv.most_similar(word, topn = 5)\n",
    "\n",
    "    print(f\"Words similar to {word}:\")\n",
    "\n",
    "    for w, s in similar_words:\n",
    "        print(f\"{w}: {s:.4f}\")\n",
    "\n",
    "    words = [w for w,s in similar_words]\n",
    "    vectors = [skipgram_model.wv[w] for w in words]\n",
    "\n",
    "    words.insert(0, word)\n",
    "    vectors.insert(0, skipgram_model.wv[word])\n",
    "\n",
    "    pca = PCA(n_components = 2)\n",
    "    res = pca.fit_transform(vectors)\n",
    "\n",
    "    plt.figure(figsize = (5, 5))\n",
    "    plt.scatter(res[:, 0], res[:, 1])\n",
    "\n",
    "    for i, w in enumerate(words):\n",
    "        plt.annotate(w, xy = (res[i, 0], res[i, 1]))\n",
    "\n",
    "    plt.title(f\"2D PCA Word Embeddings for {word}\")\n",
    "    plt.show()\n",
    "\n",
    "\n",
    "visualise_word_embeddings(\"skit\")"
   ]
  },
  {
   "cell_type": "markdown",
   "id": "b8a37bf9",
   "metadata": {},
   "source": [
    "I have checked the word embeddings for the word skit. We observed similar words like chesukunnaru (they did), download, kontha (some), atthayya (aunt), unai (present). It made complete sense as for an english word skit, the word embeddings revealed sentences like they did a skit, download skit, there are some skits to be presented, etc.\n",
    "\n",
    "### <img src = \"../images/save.png\" width = \"30\"/> Saving the Model\n",
    "\n",
    "To reuse the trained embeddings later without retrining, used the following snippet of code:"
   ]
  },
  {
   "cell_type": "code",
   "execution_count": null,
   "id": "2b9e277e",
   "metadata": {},
   "outputs": [],
   "source": [
    "skipgram_model.save(\"../model/telugu_english_skipgram.model\")"
   ]
  },
  {
   "cell_type": "code",
   "execution_count": null,
   "id": "93ca4a7e-fa0d-4873-b9ad-13b749ff10fd",
   "metadata": {},
   "outputs": [],
   "source": []
  }
 ],
 "metadata": {
  "kernelspec": {
   "display_name": "Python 3 (ipykernel)",
   "language": "python",
   "name": "python3"
  },
  "language_info": {
   "codemirror_mode": {
    "name": "ipython",
    "version": 3
   },
   "file_extension": ".py",
   "mimetype": "text/x-python",
   "name": "python",
   "nbconvert_exporter": "python",
   "pygments_lexer": "ipython3",
   "version": "3.10.17"
  }
 },
 "nbformat": 4,
 "nbformat_minor": 5
}
