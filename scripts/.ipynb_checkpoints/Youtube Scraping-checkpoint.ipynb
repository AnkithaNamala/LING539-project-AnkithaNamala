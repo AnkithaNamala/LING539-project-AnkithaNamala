{
 "cells": [
  {
   "cell_type": "code",
   "execution_count": 8,
   "id": "7e1c7e8f",
   "metadata": {},
   "outputs": [],
   "source": [
    "#importing required libraries\n",
    "from youtube_comment_downloader import YoutubeCommentDownloader"
   ]
  },
  {
   "cell_type": "code",
   "execution_count": 9,
   "id": "1be32652",
   "metadata": {},
   "outputs": [],
   "source": [
    "# initialising dwnldr to YoutubeCommentDownloader\n",
    "dwnldr = YoutubeCommentDownloader()\n",
    "\n",
    "# listing all the youtube video links\n",
    "video_urls = [\"https://www.youtube.com/watch?v=iJF9AHeZVao\", \n",
    "              \"https://www.youtube.com/watch?v=HXx2vF3L1VM\", \n",
    "              \"https://www.youtube.com/watch?v=q2KdzXF_svA\", \n",
    "              \"https://www.youtube.com/watch?v=FS8UpWayBeQ\", \n",
    "              \"https://www.youtube.com/watch?v=6Qo9Un68GfE\", \n",
    "              \"https://www.youtube.com/watch?v=KR8dx9sKfA8\", \n",
    "              \"https://www.youtube.com/watch?v=zTLlko4PUnw\", \n",
    "              \"https://www.youtube.com/watch?v=I16T-dbgUKI\", \n",
    "              \"https://www.youtube.com/watch?v=-rTd45tuG64\", \n",
    "              \"https://www.youtube.com/watch?v=Q_C6OwY0qUc\", \n",
    "              \"https://www.youtube.com/watch?v=OZMFZKRSE8Q\", \n",
    "              \"https://www.youtube.com/watch?v=bRl46hzFFls\", \n",
    "              \"https://www.youtube.com/watch?v=f5iblft1XPc\", \n",
    "              \"https://www.youtube.com/watch?v=oGd3VmBCYK0\", \n",
    "              \"https://www.youtube.com/watch?v=MAyFJ5BThd0\", \n",
    "              \"https://www.youtube.com/watch?v=W0OqqkXP2_c\", \n",
    "              \"https://www.youtube.com/watch?v=FyTzpIlE6wk\", \n",
    "              \"https://www.youtube.com/watch?v=5U1RxhEhu2I\", \n",
    "              \"https://www.youtube.com/watch?v=6LMLKwGFrFw\", \n",
    "              \"https://www.youtube.com/watch?v=AEYgIyZi_z4\", \n",
    "              \"https://www.youtube.com/watch?v=GnbnkyVyXyE\", \n",
    "              \"https://www.youtube.com/watch?v=0Rs2iKxWNvM\", \n",
    "              \"https://www.youtube.com/watch?v=pDYdyYLOqfQ\", \n",
    "              \"https://www.youtube.com/watch?v=uVooe68SNN8\", \n",
    "              \"https://www.youtube.com/watch?v=gQVacbc2FH8\", \n",
    "              \"https://www.youtube.com/watch?v=PCcaPS3QTeM\", \n",
    "              \"https://www.youtube.com/watch?v=IOopJ-PDpac\", \n",
    "              \"https://www.youtube.com/watch?v=iesUpsk_Vdk\", \n",
    "              \"https://www.youtube.com/watch?v=PpiGEYlZ12M\", \n",
    "              \"https://www.youtube.com/watch?v=QY42ncCdB4E\"]"
   ]
  },
  {
   "cell_type": "code",
   "execution_count": 10,
   "id": "9a37a048",
   "metadata": {},
   "outputs": [
    {
     "name": "stdout",
     "output_type": "stream",
     "text": [
      "1\n",
      "2\n",
      "3\n",
      "4\n",
      "5\n",
      "6\n",
      "7\n",
      "8\n",
      "9\n",
      "10\n",
      "11\n",
      "12\n",
      "13\n",
      "14\n",
      "15\n",
      "16\n",
      "17\n",
      "18\n",
      "19\n",
      "20\n",
      "21\n",
      "22\n",
      "23\n",
      "24\n",
      "25\n",
      "26\n",
      "27\n",
      "28\n",
      "29\n",
      "30\n",
      "Downloaded comments.\n"
     ]
    }
   ],
   "source": [
    "#intialising comments_list to collect all comments, counter to see how many videos have been scraped till now.\n",
    "comments_list = []\n",
    "counter = 1\n",
    "\n",
    "# iterating through each video to download comments from that particular video and adding it into comments_list.\n",
    "for video in video_urls:\n",
    "    for comment in dwnldr.get_comments_from_url(video, sort_by = 0):\n",
    "        comments_list.append(comment[\"text\"])\n",
    "    print(counter)\n",
    "    counter += 1\n",
    "\n",
    "print(f\"Downloaded comments.\")"
   ]
  },
  {
   "cell_type": "code",
   "execution_count": 11,
   "id": "6f57fabd",
   "metadata": {},
   "outputs": [
    {
     "name": "stdout",
     "output_type": "stream",
     "text": [
      "Comments saved to comments.txt file\n"
     ]
    }
   ],
   "source": [
    "#saving all the comments into the comments text file in the data folder\n",
    "with open(\"../data/comments.txt\", \"w\", encoding = \"utf-8\") as f:\n",
    "    for comment in comments_list:\n",
    "        f.write(comment + \"\\n\")\n",
    "\n",
    "print(\"Comments saved to comments.txt file\")"
   ]
  },
  {
   "cell_type": "code",
   "execution_count": null,
   "id": "064ae166",
   "metadata": {},
   "outputs": [],
   "source": []
  }
 ],
 "metadata": {
  "kernelspec": {
   "display_name": "Python 3 (ipykernel)",
   "language": "python",
   "name": "python3"
  },
  "language_info": {
   "codemirror_mode": {
    "name": "ipython",
    "version": 3
   },
   "file_extension": ".py",
   "mimetype": "text/x-python",
   "name": "python",
   "nbconvert_exporter": "python",
   "pygments_lexer": "ipython3",
   "version": "3.10.0"
  }
 },
 "nbformat": 4,
 "nbformat_minor": 5
}
